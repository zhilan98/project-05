{
 "cells": [
  {
   "cell_type": "code",
   "execution_count": 29,
   "id": "df0ac455-e50b-41dd-9925-2acf7ae5e201",
   "metadata": {},
   "outputs": [
    {
     "name": "stdout",
     "output_type": "stream",
     "text": [
      "Requirement already satisfied: imageio in /opt/anaconda3/lib/python3.12/site-packages (2.33.1)\n",
      "Requirement already satisfied: numpy in /opt/anaconda3/lib/python3.12/site-packages (from imageio) (1.26.4)\n",
      "Requirement already satisfied: pillow>=8.3.2 in /opt/anaconda3/lib/python3.12/site-packages (from imageio) (10.4.0)\n",
      "Note: you may need to restart the kernel to use updated packages.\n"
     ]
    }
   ],
   "source": [
    "pip install imageio"
   ]
  },
  {
   "cell_type": "code",
   "execution_count": 75,
   "id": "7197b6ab-be9f-4daf-90b7-f7f85635421a",
   "metadata": {},
   "outputs": [],
   "source": [
    "import numpy as np\n",
    "from PIL import Image\n",
    "from scipy.ndimage import gaussian_filter\n",
    "\n",
    "# Estimate the brightness of an image (convert image to grayscale)\n",
    "def estimate_brightness(image):\n",
    "    image_array = np.array(image.convert('RGB'))\n",
    "    brightness = np.mean(image_array, axis=2)  # Calculate the brightness of each pixel (RGB average)\n",
    "    return brightness\n",
    "\n",
    "# Estimated transmittance\n",
    "def estimate_transmission(image, brightness, alpha=0.7):\n",
    "    # Use the overall brightness of the image to estimate transmittance\n",
    "    transmission = 1 - alpha * (brightness / np.max(brightness))  \n",
    "    transmission = np.clip(transmission, 0.1, 1)  \n",
    "    return transmission\n",
    "\n",
    "# Image recovery using atmospheric scattering model\n",
    "def dehaze(image, transmission, airlight, size=15):\n",
    "    image_array = np.array(image.convert('RGB')).astype(np.float32)\n",
    "    \n",
    "    # Smoothing of transmittance using Gaussian filters\n",
    "    smoothed_transmission = gaussian_filter(transmission, sigma=size)\n",
    "    \n",
    "    # Recover the image\n",
    "    result = (image_array - airlight) / smoothed_transmission[:, :, np.newaxis] + airlight\n",
    "    return np.clip(result, 0, 255).astype(np.uint8)\n",
    "\n",
    "# main function\n",
    "def main(image_path):\n",
    "    image = Image.open(image_path)\n",
    "    brightness = estimate_brightness(image)\n",
    "    \n",
    "    # Assuming atmospheric light is the image's maximum\n",
    "    airlight = np.max(np.array(image.convert('RGB')), axis=(0, 1))\n",
    "    \n",
    "    # Estimated transmittance\n",
    "    transmission = estimate_transmission(image, brightness, alpha=0.7)\n",
    "    \n",
    "    # Recovery of de-fogged images using atmospheric scattering models\n",
    "    dehazed_image = dehaze(image, transmission, airlight)\n",
    "    result_img = Image.fromarray(dehazed_image)\n",
    "    \n",
    "    result_img.show()\n",
    "    result_img.save('/Users/ruoyan/Desktop/Master/Year1-Sem1/COMP5405-Digital Media Computing/Project/output.jpg')\n",
    "\n",
    "# Run the main function\n",
    "if __name__ == \"__main__\":\n",
    "    main('/Users/ruoyan/Desktop/Master/Year1-Sem1/COMP5405-Digital Media Computing/Project/image2.png')\n"
   ]
  }
 ],
 "metadata": {
  "kernelspec": {
   "display_name": "Python [conda env:base] *",
   "language": "python",
   "name": "conda-base-py"
  },
  "language_info": {
   "codemirror_mode": {
    "name": "ipython",
    "version": 3
   },
   "file_extension": ".py",
   "mimetype": "text/x-python",
   "name": "python",
   "nbconvert_exporter": "python",
   "pygments_lexer": "ipython3",
   "version": "3.12.7"
  }
 },
 "nbformat": 4,
 "nbformat_minor": 5
}
